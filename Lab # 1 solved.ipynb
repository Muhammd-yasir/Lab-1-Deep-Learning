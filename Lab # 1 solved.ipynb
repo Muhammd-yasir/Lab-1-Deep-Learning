{
 "cells": [
  {
   "cell_type": "markdown",
   "id": "42661be9-6cdf-4f40-86dc-9544f9919bf6",
   "metadata": {},
   "source": [
    "# LAB NO : 1"
   ]
  },
  {
   "cell_type": "markdown",
   "id": "e929995b-b823-4ea2-9df6-744df41f0dd1",
   "metadata": {},
   "source": [
    "**TASK : 1**\n",
    "\n",
    "Write a Python program that multiplies a TensorFlow tensor by a scalar value and prints the result."
   ]
  },
  {
   "cell_type": "code",
   "execution_count": 2,
   "id": "80008865-923c-401c-9b1d-d32404ddd8cb",
   "metadata": {},
   "outputs": [
    {
     "name": "stdout",
     "output_type": "stream",
     "text": [
      "WARNING:tensorflow:From C:\\Users\\MUHAM\\AppData\\Local\\Temp\\ipykernel_11984\\70633883.py:2: The name tf.disable_eager_execution is deprecated. Please use tf.compat.v1.disable_eager_execution instead.\n",
      "\n",
      "Original Tensor:\n",
      " [[1 2 3]\n",
      " [4 5 6]]\n",
      "\n",
      "Scalar Value:  2\n",
      "\n",
      "Result of multiplying the tensor by the scalar:\n",
      "[[ 2  4  6]\n",
      " [ 8 10 12]]\n"
     ]
    }
   ],
   "source": [
    "import tensorflow as tf\n",
    "tf.compat.v1.disable_eager_execution()\n",
    "\n",
    "# Create a TensorFlow tensor\n",
    "tensor = tf.constant([[1, 2, 3],\n",
    "                      [4, 5, 6]])\n",
    "\n",
    "# Define a scalar value\n",
    "scalar = 2\n",
    "\n",
    "# Multiply the tensor by the scalar\n",
    "result = tensor * scalar\n",
    "\n",
    "# Start a TensorFlow session\n",
    "sess = tf.compat.v1.Session()\n",
    "ts = sess.run(tensor)\n",
    "result_value = sess.run(result)\n",
    "\n",
    "# Print the results\n",
    "print(\"Original Tensor:\\n\",ts)\n",
    "print(\"\\nScalar Value: \", scalar)\n",
    "print(\"\\nResult of multiplying the tensor by the scalar:\")\n",
    "print(result_value)\n",
    "sess.close()"
   ]
  },
  {
   "cell_type": "markdown",
   "id": "fb7837fe-9572-475c-a018-269db7ccfbb1",
   "metadata": {},
   "source": [
    "---------------------------------------------------------------------------------------------------------------------------------"
   ]
  },
  {
   "cell_type": "markdown",
   "id": "234a47cf-b70c-44e2-94a3-b82faf20b209",
   "metadata": {},
   "source": [
    "**TASK : 2**\n",
    "\n",
    "Write a Python program that uses TensorFlow to compute the dot product of two vectors (1-D tensors)."
   ]
  },
  {
   "cell_type": "code",
   "execution_count": 3,
   "id": "003e941f-0bd8-468e-bb9c-34ec110351b1",
   "metadata": {},
   "outputs": [
    {
     "name": "stdout",
     "output_type": "stream",
     "text": [
      "Vector 1:  [12 22]\n",
      "\n",
      "Vector 2:  [21 44]\n",
      "\n",
      "RESULT :  1220\n"
     ]
    }
   ],
   "source": [
    "import tensorflow as tf\n",
    "tf.compat.v1.disable_eager_execution()\n",
    "\n",
    "vector1 = tf.constant([12, 22])\n",
    "vector2 = tf.constant([21, 44])\n",
    "dot_product = tf.tensordot(vector1,vector2 , axes = 1)\n",
    "\n",
    "# Start a TensorFlow session\n",
    "sess = tf.compat.v1.Session()\n",
    "V1 = sess.run(vector1)\n",
    "V2 = sess.run(vector2)\n",
    "result = sess.run(dot_product)\n",
    "\n",
    "# Print the result\n",
    "print(\"Vector 1: \", V1 )\n",
    "print(\"\\nVector 2: \", V2)\n",
    "print(\"\\nRESULT : \",result)\n",
    "sess.close()"
   ]
  },
  {
   "cell_type": "markdown",
   "id": "99480157-7bf4-4863-9357-6b20de461416",
   "metadata": {},
   "source": [
    "---------------------------------------------------------------------------------------------------------------------------------"
   ]
  },
  {
   "cell_type": "markdown",
   "id": "96254d71-ad2e-44c1-8610-e68c027332ac",
   "metadata": {},
   "source": [
    "**TASK : 3**\n",
    "\n",
    "Write a TensorFlow program that creates two matrices, matrix1 and matrix2, with the following values:matrix1 = [ [1, 2] , [3, 4] ] matrix2 = [ [5, 6] , [7, 8] ]  \n",
    "Perform the arithematic operations on these matric."
   ]
  },
  {
   "cell_type": "code",
   "execution_count": 5,
   "id": "b75ff517-9e77-4240-afd8-4530fdeebeaf",
   "metadata": {},
   "outputs": [
    {
     "name": "stdout",
     "output_type": "stream",
     "text": [
      "Addition Result:\n",
      "[[ 6  8]\n",
      " [10 12]]\n",
      "\n",
      "Subtraction Result:\n",
      "[[4 4]\n",
      " [4 4]]\n",
      "\n",
      "Multiplication Result:\n",
      "[[ 5 12]\n",
      " [21 32]]\n",
      "\n",
      "Division Result:\n",
      "[[5.         3.        ]\n",
      " [2.33333333 2.        ]]\n",
      "\n",
      "Matrix Multiplication Of Matrix1 And Matrix2:\n",
      "[[19 22]\n",
      " [43 50]]\n"
     ]
    }
   ],
   "source": [
    "import tensorflow as tf\n",
    "tf.compat.v1.disable_eager_execution()\n",
    "\n",
    "matrix1 = tf.constant([[1, 2],\n",
    "                      [3, 4]])\n",
    "\n",
    "matrix2 = tf.constant([[5, 6],\n",
    "                      [7, 8]])\n",
    "\n",
    "# Arithmetic Operations\n",
    "addition = matrix1 + matrix2\n",
    "subtraction = matrix2 - matrix1\n",
    "multiplication = matrix1 * matrix2\n",
    "division = matrix2 / matrix1\n",
    "matrix_multiplication = tf.matmul(matrix1, matrix2)\n",
    "\n",
    "# Start a TensorFlow session\n",
    "sess = tf.compat.v1.Session() \n",
    "addition_result = sess.run(addition)\n",
    "subtraction_result = sess.run(subtraction)\n",
    "multiplication_result = sess.run(multiplication)\n",
    "division_result = sess.run(division)\n",
    "matrix_multiplication_result = sess.run(matrix_multiplication)\n",
    "\n",
    "# Print the results\n",
    "print(\"Addition Result:\")\n",
    "print(addition_result)\n",
    "\n",
    "print(\"\\nSubtraction Result:\")\n",
    "print(subtraction_result)\n",
    "\n",
    "print(\"\\nMultiplication Result:\")\n",
    "print(multiplication_result)\n",
    "\n",
    "print(\"\\nDivision Result:\")\n",
    "print(division_result)\n",
    "\n",
    "print(\"\\nMatrix Multiplication Of Matrix1 And Matrix2:\")\n",
    "print(matrix_multiplication_result)\n",
    "sess.close()"
   ]
  },
  {
   "cell_type": "markdown",
   "id": "33677180-bf92-493e-8c5e-34d233e088c3",
   "metadata": {},
   "source": [
    "---------------------------------------------------------------------------------------------------------------------------------"
   ]
  },
  {
   "cell_type": "markdown",
   "id": "08b67174-ed33-4f61-ac55-750ae051f4b6",
   "metadata": {},
   "source": [
    "# EXERCISES :"
   ]
  },
  {
   "cell_type": "markdown",
   "id": "dcff668c-6054-4692-9f6b-72f2fa20a27d",
   "metadata": {},
   "source": [
    "**1.** Create a vector, scalar, matrix and tensor with values of your choosing using tf.constant()."
   ]
  },
  {
   "cell_type": "code",
   "execution_count": 6,
   "id": "6a9e38ef-64f3-4cc1-93ef-32e2f13412a0",
   "metadata": {},
   "outputs": [
    {
     "name": "stdout",
     "output_type": "stream",
     "text": [
      "Vector:\n",
      " [1 2 3 4]\n",
      "\n",
      "Scalar:\n",
      " 10\n",
      "\n",
      "Matrix:\n",
      " [[1 2]\n",
      " [3 4]]\n",
      "\n",
      "Tensor:\n",
      " [[[1 2]\n",
      "  [3 4]]\n",
      "\n",
      " [[5 6]\n",
      "  [7 8]]]\n"
     ]
    }
   ],
   "source": [
    "import tensorflow as tf\n",
    "\n",
    "# Create a vector\n",
    "vector = tf.constant([1, 2, 3, 4])\n",
    "\n",
    "# Create a scalar\n",
    "scalar = tf.constant(10)\n",
    "\n",
    "# Create a matrix\n",
    "matrix = tf.constant([[1, 2],\n",
    "                      [3, 4]])\n",
    "\n",
    "# Create a tensor\n",
    "tensor = tf.constant([[[1, 2],\n",
    "                       [3, 4]],\n",
    "                      [[5, 6],\n",
    "                       [7, 8]]])\n",
    "\n",
    "# Start a TensorFlow session\n",
    "sess = tf.compat.v1.Session() \n",
    "v= sess.run(vector)\n",
    "s= sess.run(scalar)\n",
    "m= sess.run(matrix )\n",
    "t= sess.run(tensor)\n",
    "\n",
    "# Print the results\n",
    "print(\"Vector:\\n\",v)\n",
    "print(\"\\nScalar:\\n\",s)\n",
    "print(\"\\nMatrix:\\n\",m)\n",
    "print(\"\\nTensor:\\n\",t)\n",
    "sess.close()"
   ]
  },
  {
   "cell_type": "markdown",
   "id": "4271ef37-c389-4d9c-a534-9eb9cc913c17",
   "metadata": {},
   "source": [
    "---------------------------------------------------------------------------------------------------------------------------------"
   ]
  },
  {
   "cell_type": "markdown",
   "id": "637f6840-b2f0-4c40-93ac-6996111f3f1c",
   "metadata": {},
   "source": [
    "**2.** Find the shape, rank and size of the tensors you created in 1."
   ]
  },
  {
   "cell_type": "code",
   "execution_count": 7,
   "id": "52692bb1-06cd-4609-8366-a78979cc132b",
   "metadata": {},
   "outputs": [
    {
     "name": "stdout",
     "output_type": "stream",
     "text": [
      "Vector:\n",
      "Shape: [4] Rank: 1 Size: 4\n",
      "\n",
      "Scalar:\n",
      "Shape: [] Rank: 0 Size: 1\n",
      "\n",
      "Matrix:\n",
      "Shape: [2 2] Rank: 2 Size: 4\n",
      "\n",
      "Tensor:\n",
      "Shape: [2 2 2] Rank: 3 Size: 8\n"
     ]
    }
   ],
   "source": [
    "# Start a TensorFlow session\n",
    "sess = tf.compat.v1.Session()\n",
    "\n",
    "vector_shape = sess.run(tf.shape(vector))\n",
    "scalar_shape = sess.run(tf.shape(scalar))\n",
    "matrix_shape = sess.run(tf.shape(matrix))\n",
    "tensor_shape = sess.run(tf.shape(tensor))\n",
    "\n",
    "vector_rank = sess.run(tf.rank(vector))\n",
    "scalar_rank = sess.run(tf.rank(scalar))\n",
    "matrix_rank = sess.run(tf.rank(matrix))\n",
    "tensor_rank = sess.run(tf.rank(tensor))\n",
    "\n",
    "vector_size = sess.run(tf.size(vector))\n",
    "scalar_size = sess.run(tf.size(scalar))\n",
    "matrix_size = sess.run(tf.size(matrix))\n",
    "tensor_size = sess.run(tf.size(tensor))\n",
    "\n",
    "# Print the results\n",
    "print(\"Vector:\")\n",
    "print(\"Shape:\", vector_shape, \"Rank:\", vector_rank, \"Size:\", vector_size)\n",
    "\n",
    "print(\"\\nScalar:\")\n",
    "print(\"Shape:\", scalar_shape, \"Rank:\", scalar_rank, \"Size:\", scalar_size)\n",
    "\n",
    "print(\"\\nMatrix:\")\n",
    "print(\"Shape:\", matrix_shape, \"Rank:\", matrix_rank, \"Size:\", matrix_size)\n",
    "\n",
    "print(\"\\nTensor:\")\n",
    "print(\"Shape:\", tensor_shape, \"Rank:\", tensor_rank, \"Size:\", tensor_size)"
   ]
  },
  {
   "cell_type": "markdown",
   "id": "34f43206-6c0a-423e-947d-70d85371b34f",
   "metadata": {},
   "source": [
    "---------------------------------------------------------------------------------------------------------------------------------"
   ]
  },
  {
   "cell_type": "markdown",
   "id": "62037761-ce96-4748-b2c3-e3f0f0f867d8",
   "metadata": {},
   "source": [
    "**3.** Create two tensors containing random values between 0 and 1 with shape [5, 300]."
   ]
  },
  {
   "cell_type": "code",
   "execution_count": 8,
   "id": "f644e172-bc9b-44b8-ad3c-c7193b793b4d",
   "metadata": {},
   "outputs": [
    {
     "name": "stdout",
     "output_type": "stream",
     "text": [
      "Tensor 1:\n",
      " [[0.0149107  0.4715321  0.99932134 ... 0.18874669 0.4962088  0.0170511 ]\n",
      " [0.09493279 0.10225356 0.70262766 ... 0.5600767  0.28828442 0.59925866]\n",
      " [0.31643188 0.12736166 0.02176857 ... 0.8051386  0.10090053 0.17182946]\n",
      " [0.9761919  0.64838755 0.75256705 ... 0.89367247 0.20059359 0.38050032]\n",
      " [0.7714735  0.11930215 0.6817601  ... 0.7625855  0.19165719 0.2989601 ]]\n",
      "\n",
      "Tensor 2:\n",
      " [[0.02309167 0.3243382  0.08807898 ... 0.12075603 0.22073293 0.41373146]\n",
      " [0.5056913  0.8086283  0.25928545 ... 0.65577686 0.5655227  0.26233506]\n",
      " [0.89596605 0.77796495 0.98977995 ... 0.88128734 0.63846135 0.6020353 ]\n",
      " [0.24475276 0.53788304 0.5423398  ... 0.29045486 0.34470844 0.13550854]\n",
      " [0.89808214 0.03106737 0.74504876 ... 0.28358912 0.15359223 0.97323763]]\n"
     ]
    }
   ],
   "source": [
    "import tensorflow as tf\n",
    "\n",
    "# Create two tensors with random values between 0 and 1 with shape [5, 300]\n",
    "tensor1 = tf.random.uniform(shape=[5, 300], minval=0, maxval=1)\n",
    "tensor2 = tf.random.uniform(shape=[5, 300], minval=0, maxval=1)\n",
    "\n",
    "# Start a TensorFlow session\n",
    "sess = tf.compat.v1.Session() \n",
    "result1 = sess.run(tensor1)\n",
    "result2 = sess.run(tensor2)\n",
    "\n",
    "# Print the tensors\n",
    "print(\"Tensor 1:\\n\", result1)\n",
    "print(\"\\nTensor 2:\\n\", result2)\n",
    "sess.close()"
   ]
  },
  {
   "cell_type": "markdown",
   "id": "c3738ee3-1cbb-4fe3-ac07-b0f9a8d81b2c",
   "metadata": {},
   "source": [
    "---------------------------------------------------------------------------------------------------------------------------------"
   ]
  },
  {
   "cell_type": "markdown",
   "id": "5665ec60-ac6d-45af-ab6c-41491671626a",
   "metadata": {},
   "source": [
    "**4.** Multiply the two tensors you created in 3 using matrix multiplication."
   ]
  },
  {
   "cell_type": "code",
   "execution_count": 9,
   "id": "56a4befb-ec12-4b04-9a55-b3ad8a24bac3",
   "metadata": {},
   "outputs": [
    {
     "name": "stdout",
     "output_type": "stream",
     "text": [
      "Matrix Multiplication Result:\n",
      " [[75.44998  79.838875 77.23092  73.9727   77.42517 ]\n",
      " [73.41982  76.721375 74.5135   73.57299  77.72446 ]\n",
      " [70.65619  79.62358  74.63487  72.216415 77.93402 ]\n",
      " [75.12364  81.389244 78.42085  73.05148  81.025566]\n",
      " [71.332275 77.79223  77.18885  72.953995 80.58328 ]]\n"
     ]
    }
   ],
   "source": [
    "# Perform matrix multiplication\n",
    "matrix_mult = tf.matmul(tensor1, tf.transpose(tensor2))\n",
    "\n",
    "# Start a TensorFlow session\n",
    "sess = tf.compat.v1.Session() \n",
    "result = sess.run(matrix_mult)\n",
    "\n",
    "# Print the result\n",
    "print(\"Matrix Multiplication Result:\\n\",result)\n",
    "sess.close()"
   ]
  },
  {
   "cell_type": "markdown",
   "id": "7e3da2f0-4203-42de-8de4-716d2e6c8915",
   "metadata": {},
   "source": [
    "---------------------------------------------------------------------------------------------------------------------------------"
   ]
  },
  {
   "cell_type": "markdown",
   "id": "ec516846-2588-4f4a-af7e-0ba1a8522962",
   "metadata": {},
   "source": [
    "**5.** Multiply the two tensors you created in 3 using dot product."
   ]
  },
  {
   "cell_type": "code",
   "execution_count": 10,
   "id": "4b43f50c-d1d8-4e77-986b-ab882c60d41e",
   "metadata": {},
   "outputs": [
    {
     "name": "stdout",
     "output_type": "stream",
     "text": [
      "Dot Product Result:\n",
      " [[74.79193  74.391556 70.33914  76.49432  76.674164]\n",
      " [70.38854  70.53273  68.38504  75.01966  76.568405]\n",
      " [76.785225 73.008484 71.274765 80.434296 75.55663 ]\n",
      " [75.883835 73.30353  74.814476 78.74857  78.64054 ]\n",
      " [74.48733  75.0188   74.01694  80.440704 76.473305]]\n"
     ]
    }
   ],
   "source": [
    "# Perform matrix multiplication\n",
    "dot_product = tf.tensordot(tensor1, tf.transpose(tensor2), axes=1)\n",
    "\n",
    "# Start a TensorFlow session\n",
    "sess = tf.compat.v1.Session() \n",
    "result = sess.run(dot_product)\n",
    "\n",
    "# Print the result\n",
    "print(\"Dot Product Result:\\n\",result)\n",
    "sess.close()"
   ]
  },
  {
   "cell_type": "markdown",
   "id": "c1f1f40b-c7ee-428a-a53c-4711f5976879",
   "metadata": {},
   "source": [
    "---------------------------------------------------------------------------------------------------------------------------------"
   ]
  },
  {
   "cell_type": "markdown",
   "id": "48eb8e7e-a417-4505-9192-e7b160e35e2f",
   "metadata": {},
   "source": [
    "**6.** Create a tensor with random values between 0 and 1 with shape [224, 224, 3]."
   ]
  },
  {
   "cell_type": "code",
   "execution_count": 11,
   "id": "a2b4a26a-c54d-40cf-b1bb-18be0b237a29",
   "metadata": {},
   "outputs": [
    {
     "name": "stdout",
     "output_type": "stream",
     "text": [
      "Tensor :\n",
      " [[[0.25568092 0.7378932  0.7120693 ]\n",
      "  [0.9547168  0.5740689  0.08819008]\n",
      "  [0.9259753  0.19192767 0.25912225]\n",
      "  ...\n",
      "  [0.759323   0.3917942  0.20224047]\n",
      "  [0.23933792 0.45667183 0.6750109 ]\n",
      "  [0.36575866 0.33761287 0.46965706]]\n",
      "\n",
      " [[0.90212774 0.24387848 0.91751254]\n",
      "  [0.8428438  0.04628015 0.63519955]\n",
      "  [0.932122   0.72838295 0.9284915 ]\n",
      "  ...\n",
      "  [0.926178   0.46627128 0.580248  ]\n",
      "  [0.15691209 0.7168424  0.90761626]\n",
      "  [0.17132378 0.96410954 0.07150114]]\n",
      "\n",
      " [[0.34630382 0.8205166  0.08539379]\n",
      "  [0.9736761  0.8020495  0.34418118]\n",
      "  [0.43942368 0.14248478 0.2601794 ]\n",
      "  ...\n",
      "  [0.22716808 0.04939258 0.3161434 ]\n",
      "  [0.38105047 0.79856765 0.96620464]\n",
      "  [0.33779013 0.05147731 0.12054014]]\n",
      "\n",
      " ...\n",
      "\n",
      " [[0.96664095 0.37847054 0.8502122 ]\n",
      "  [0.6589228  0.0311352  0.43895423]\n",
      "  [0.7364602  0.19554603 0.10694444]\n",
      "  ...\n",
      "  [0.12254047 0.79426587 0.2113694 ]\n",
      "  [0.8887993  0.54738474 0.98495114]\n",
      "  [0.44891763 0.7254982  0.69275177]]\n",
      "\n",
      " [[0.02975214 0.29332078 0.61873925]\n",
      "  [0.10099661 0.75731826 0.6247493 ]\n",
      "  [0.09942734 0.645239   0.08804643]\n",
      "  ...\n",
      "  [0.42144132 0.15538299 0.04876447]\n",
      "  [0.82898307 0.5310558  0.84422624]\n",
      "  [0.47744012 0.19450927 0.6382948 ]]\n",
      "\n",
      " [[0.07080448 0.5544431  0.14835894]\n",
      "  [0.13488984 0.44531417 0.44487786]\n",
      "  [0.8041614  0.42751443 0.85512877]\n",
      "  ...\n",
      "  [0.13438225 0.74889696 0.25298655]\n",
      "  [0.7365639  0.544464   0.8037361 ]\n",
      "  [0.28120768 0.17560136 0.89285445]]]\n",
      "\n",
      "SHAPE : (224, 224, 3)\n"
     ]
    }
   ],
   "source": [
    "import tensorflow as tf\n",
    "\n",
    "# Create a tensor with random values between 0 and 1 with shape [224, 224, 3]\n",
    "tensor = tf.random.uniform(shape=[224, 224, 3], minval=0, maxval=1)\n",
    "\n",
    "# Start a TensorFlow session\n",
    "sess = tf.compat.v1.Session() \n",
    "result = sess.run(tensor)\n",
    "\n",
    "# Print the tensor and its shape\n",
    "print(\"Tensor :\\n\", result)\n",
    "print(\"\\nSHAPE :\",tensor.shape)\n",
    "sess.close()"
   ]
  },
  {
   "cell_type": "markdown",
   "id": "a6b64c62-7af6-4075-82ef-ba42160c4339",
   "metadata": {},
   "source": [
    "---------------------------------------------------------------------------------------------------------------------------------"
   ]
  },
  {
   "cell_type": "markdown",
   "id": "b1d9f868-fcba-4272-93c7-0092c3df63f8",
   "metadata": {},
   "source": [
    "**7.** Find the min and max values of the tensor you created in 6."
   ]
  },
  {
   "cell_type": "code",
   "execution_count": 12,
   "id": "5487fd83-c431-45e8-a15b-3158cf70bc41",
   "metadata": {},
   "outputs": [
    {
     "name": "stdout",
     "output_type": "stream",
     "text": [
      "Minimum Value:\n",
      " 9.894371e-06\n",
      "\n",
      "Maximum Value:\n",
      " 0.99999905\n"
     ]
    }
   ],
   "source": [
    "min_value = tf.reduce_min(tensor)\n",
    "max_value = tf.reduce_max(tensor)\n",
    "\n",
    "# Start a TensorFlow session\n",
    "sess = tf.compat.v1.Session() \n",
    "min_result, max_result = sess.run([min_value, max_value ])\n",
    "\n",
    "# Print the minimum and maximum values\n",
    "print(\"Minimum Value:\\n\", min_result)\n",
    "print(\"\\nMaximum Value:\\n\", max_result)\n",
    "sess.close()"
   ]
  },
  {
   "cell_type": "markdown",
   "id": "0764fd71-87a8-4a22-8dba-54dd283b1a84",
   "metadata": {},
   "source": [
    "---------------------------------------------------------------------------------------------------------------------------------"
   ]
  },
  {
   "cell_type": "markdown",
   "id": "e072b12d-1f7f-47db-8093-c2bacef8a835",
   "metadata": {},
   "source": [
    "**8.** Created a tensor with random values of shape [1, 224, 224, 3] then squeeze it to change the shape to [224, 224, 3]."
   ]
  },
  {
   "cell_type": "code",
   "execution_count": 13,
   "id": "b1c4e6aa-1bc3-4946-bfa5-7554a977e7d0",
   "metadata": {},
   "outputs": [
    {
     "name": "stdout",
     "output_type": "stream",
     "text": [
      "Original Tensor Shape: (1, 224, 224, 3)\n",
      "Squeezed Tensor Shape: (224, 224, 3)\n"
     ]
    }
   ],
   "source": [
    "import tensorflow as tf\n",
    "\n",
    "tensor = tf.random.uniform(shape=[1, 224, 224, 3], minval=0, maxval=1, dtype=tf.float32)\n",
    "squeezed_tensor = tf.squeeze(tensor)\n",
    "\n",
    "print(\"Original Tensor Shape:\", tensor.shape)\n",
    "print(\"Squeezed Tensor Shape:\", squeezed_tensor.shape)"
   ]
  },
  {
   "cell_type": "markdown",
   "id": "2a6dd1f7-a4ba-4ee5-bf78-5c6342da6998",
   "metadata": {},
   "source": [
    "---------------------------------------------------------------------------------------------------------------------------------"
   ]
  },
  {
   "cell_type": "markdown",
   "id": "01e222be-f0b5-492c-a828-69bfbd9a4ee5",
   "metadata": {},
   "source": [
    "**9.** Create a tensor with shape [10] using your own choice of values, then find the index which has the maximum value."
   ]
  },
  {
   "cell_type": "code",
   "execution_count": 14,
   "id": "ab68efca-b890-470a-9585-5eb6f7388249",
   "metadata": {},
   "outputs": [
    {
     "name": "stdout",
     "output_type": "stream",
     "text": [
      "Index with Maximum Value: 5\n"
     ]
    }
   ],
   "source": [
    "import tensorflow as tf\n",
    "\n",
    "# Create a tensor with shape [10] using your own choice of values\n",
    "tensor = tf.constant([5, 10, 15, 20, 50, 60, 25, 30, 35, 40])\n",
    "\n",
    "# Find the index which has the maximum value\n",
    "max_index = tf.argmax(tensor)\n",
    "\n",
    "# Start a TensorFlow session\n",
    "sess = tf.compat.v1.Session()\n",
    "Value = sess.run(max_index)\n",
    "\n",
    "# Print the index of the maximum value\n",
    "print(\"Index with Maximum Value:\", Value)\n",
    "sess.close()"
   ]
  },
  {
   "cell_type": "markdown",
   "id": "376aa2c0-5800-46ce-a8b8-500a894804b3",
   "metadata": {},
   "source": [
    "---------------------------------------------------------------------------------------------------------------------------------"
   ]
  },
  {
   "cell_type": "markdown",
   "id": "51ed049f-c9a6-4796-a78b-fbae246eb90b",
   "metadata": {},
   "source": [
    "**10.** One-hot encode the tensor you created in 9."
   ]
  },
  {
   "cell_type": "code",
   "execution_count": 16,
   "id": "27f3c2df-eac0-4a4d-8291-05c159860557",
   "metadata": {},
   "outputs": [
    {
     "name": "stdout",
     "output_type": "stream",
     "text": [
      "One-hot encoded tensor:\n",
      " [[0. 0. 0. 0. 0. 1. 0. 0. 0. 0. 0. 0. 0. 0. 0. 0. 0. 0. 0. 0. 0. 0. 0. 0.\n",
      "  0. 0. 0. 0. 0. 0. 0. 0. 0. 0. 0. 0. 0. 0. 0. 0. 0. 0. 0. 0. 0. 0. 0. 0.\n",
      "  0. 0. 0. 0. 0. 0. 0. 0. 0. 0. 0. 0. 0.]\n",
      " [0. 0. 0. 0. 0. 0. 0. 0. 0. 0. 1. 0. 0. 0. 0. 0. 0. 0. 0. 0. 0. 0. 0. 0.\n",
      "  0. 0. 0. 0. 0. 0. 0. 0. 0. 0. 0. 0. 0. 0. 0. 0. 0. 0. 0. 0. 0. 0. 0. 0.\n",
      "  0. 0. 0. 0. 0. 0. 0. 0. 0. 0. 0. 0. 0.]\n",
      " [0. 0. 0. 0. 0. 0. 0. 0. 0. 0. 0. 0. 0. 0. 0. 1. 0. 0. 0. 0. 0. 0. 0. 0.\n",
      "  0. 0. 0. 0. 0. 0. 0. 0. 0. 0. 0. 0. 0. 0. 0. 0. 0. 0. 0. 0. 0. 0. 0. 0.\n",
      "  0. 0. 0. 0. 0. 0. 0. 0. 0. 0. 0. 0. 0.]\n",
      " [0. 0. 0. 0. 0. 0. 0. 0. 0. 0. 0. 0. 0. 0. 0. 0. 0. 0. 0. 0. 1. 0. 0. 0.\n",
      "  0. 0. 0. 0. 0. 0. 0. 0. 0. 0. 0. 0. 0. 0. 0. 0. 0. 0. 0. 0. 0. 0. 0. 0.\n",
      "  0. 0. 0. 0. 0. 0. 0. 0. 0. 0. 0. 0. 0.]\n",
      " [0. 0. 0. 0. 0. 0. 0. 0. 0. 0. 0. 0. 0. 0. 0. 0. 0. 0. 0. 0. 0. 0. 0. 0.\n",
      "  0. 0. 0. 0. 0. 0. 0. 0. 0. 0. 0. 0. 0. 0. 0. 0. 0. 0. 0. 0. 0. 0. 0. 0.\n",
      "  0. 0. 1. 0. 0. 0. 0. 0. 0. 0. 0. 0. 0.]\n",
      " [0. 0. 0. 0. 0. 0. 0. 0. 0. 0. 0. 0. 0. 0. 0. 0. 0. 0. 0. 0. 0. 0. 0. 0.\n",
      "  0. 0. 0. 0. 0. 0. 0. 0. 0. 0. 0. 0. 0. 0. 0. 0. 0. 0. 0. 0. 0. 0. 0. 0.\n",
      "  0. 0. 0. 0. 0. 0. 0. 0. 0. 0. 0. 0. 1.]\n",
      " [0. 0. 0. 0. 0. 0. 0. 0. 0. 0. 0. 0. 0. 0. 0. 0. 0. 0. 0. 0. 0. 0. 0. 0.\n",
      "  0. 1. 0. 0. 0. 0. 0. 0. 0. 0. 0. 0. 0. 0. 0. 0. 0. 0. 0. 0. 0. 0. 0. 0.\n",
      "  0. 0. 0. 0. 0. 0. 0. 0. 0. 0. 0. 0. 0.]\n",
      " [0. 0. 0. 0. 0. 0. 0. 0. 0. 0. 0. 0. 0. 0. 0. 0. 0. 0. 0. 0. 0. 0. 0. 0.\n",
      "  0. 0. 0. 0. 0. 0. 1. 0. 0. 0. 0. 0. 0. 0. 0. 0. 0. 0. 0. 0. 0. 0. 0. 0.\n",
      "  0. 0. 0. 0. 0. 0. 0. 0. 0. 0. 0. 0. 0.]\n",
      " [0. 0. 0. 0. 0. 0. 0. 0. 0. 0. 0. 0. 0. 0. 0. 0. 0. 0. 0. 0. 0. 0. 0. 0.\n",
      "  0. 0. 0. 0. 0. 0. 0. 0. 0. 0. 0. 1. 0. 0. 0. 0. 0. 0. 0. 0. 0. 0. 0. 0.\n",
      "  0. 0. 0. 0. 0. 0. 0. 0. 0. 0. 0. 0. 0.]\n",
      " [0. 0. 0. 0. 0. 0. 0. 0. 0. 0. 0. 0. 0. 0. 0. 0. 0. 0. 0. 0. 0. 0. 0. 0.\n",
      "  0. 0. 0. 0. 0. 0. 0. 0. 0. 0. 0. 0. 0. 0. 0. 0. 1. 0. 0. 0. 0. 0. 0. 0.\n",
      "  0. 0. 0. 0. 0. 0. 0. 0. 0. 0. 0. 0. 0.]]\n"
     ]
    }
   ],
   "source": [
    "max_value = tf.reduce_max(tensor)\n",
    "sess = tf.compat.v1.Session()\n",
    "one_hot_encoded = tf.one_hot(tensor, depth=max_value+1)\n",
    "one_hot_encoded_result = sess.run(one_hot_encoded)\n",
    "print(\"One-hot encoded tensor:\\n\",one_hot_encoded_result)"
   ]
  },
  {
   "cell_type": "code",
   "execution_count": null,
   "id": "381b7137-9d96-4530-8f17-cb932bd216d9",
   "metadata": {},
   "outputs": [],
   "source": []
  }
 ],
 "metadata": {
  "kernelspec": {
   "display_name": "Python 3 (ipykernel)",
   "language": "python",
   "name": "python3"
  },
  "language_info": {
   "codemirror_mode": {
    "name": "ipython",
    "version": 3
   },
   "file_extension": ".py",
   "mimetype": "text/x-python",
   "name": "python",
   "nbconvert_exporter": "python",
   "pygments_lexer": "ipython3",
   "version": "3.11.7"
  }
 },
 "nbformat": 4,
 "nbformat_minor": 5
}
